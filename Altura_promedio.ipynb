{
  "nbformat": 4,
  "nbformat_minor": 0,
  "metadata": {
    "colab": {
      "provenance": [],
      "authorship_tag": "ABX9TyNn7LegethR6XEe9/1MejAz",
      "include_colab_link": true
    },
    "kernelspec": {
      "name": "python3",
      "display_name": "Python 3"
    },
    "language_info": {
      "name": "python"
    }
  },
  "cells": [
    {
      "cell_type": "markdown",
      "metadata": {
        "id": "view-in-github",
        "colab_type": "text"
      },
      "source": [
        "<a href=\"https://colab.research.google.com/github/jcsnuesi/altura-promedio/blob/main/Altura_promedio.ipynb\" target=\"_parent\"><img src=\"https://colab.research.google.com/assets/colab-badge.svg\" alt=\"Open In Colab\"/></a>"
      ]
    },
    {
      "cell_type": "code",
      "execution_count": 245,
      "metadata": {
        "colab": {
          "base_uri": "https://localhost:8080/"
        },
        "id": "yjNTPAPt2H4R",
        "outputId": "e64f9e0d-ff25-4337-cd1c-38c494112397"
      },
      "outputs": [
        {
          "output_type": "stream",
          "name": "stdout",
          "text": [
            "Drive already mounted at content/; to attempt to forcibly remount, call drive.mount(\"content/\", force_remount=True).\n"
          ]
        }
      ],
      "source": [
        "from google.colab import drive\n",
        "drive.mount('content/')"
      ]
    },
    {
      "cell_type": "code",
      "source": [
        "import pandas as pd \n",
        "import numpy as np"
      ],
      "metadata": {
        "id": "pxWVOQm12Vvw"
      },
      "execution_count": 246,
      "outputs": []
    },
    {
      "cell_type": "code",
      "source": [
        "df = pd.read_csv('/content/content/MyDrive/Colab Notebooks/athleteEventsNoPersonal.csv')\n",
        "df"
      ],
      "metadata": {
        "colab": {
          "base_uri": "https://localhost:8080/",
          "height": 641
        },
        "id": "z2aXjfGp23vA",
        "outputId": "ba13b8b8-b53c-48c3-9b69-91c942899aa2"
      },
      "execution_count": 247,
      "outputs": [
        {
          "output_type": "execute_result",
          "data": {
            "text/plain": [
              "           ID   Age  Height         Team  NOC        Games  Year  Season  \\\n",
              "0           5  21.0   185.0  Netherlands  NED  1988 Winter  1988  Winter   \n",
              "1           5  21.0   185.0  Netherlands  NED  1988 Winter  1988  Winter   \n",
              "2           5  25.0   185.0  Netherlands  NED  1992 Winter  1992  Winter   \n",
              "3           5  25.0   185.0  Netherlands  NED  1992 Winter  1992  Winter   \n",
              "4           5  27.0   185.0  Netherlands  NED  1994 Winter  1994  Winter   \n",
              "...       ...   ...     ...          ...  ...          ...   ...     ...   \n",
              "40611  135567  28.0   183.0       Russia  RUS  2004 Summer  2004  Summer   \n",
              "40612  135570  27.0   176.0       Poland  POL  2014 Winter  2014  Winter   \n",
              "40613  135570  27.0   176.0       Poland  POL  2014 Winter  2014  Winter   \n",
              "40614  135571  30.0   185.0       Poland  POL  1998 Winter  1998  Winter   \n",
              "40615  135571  34.0   185.0       Poland  POL  2002 Winter  2002  Winter   \n",
              "\n",
              "                 City          Sport  \\\n",
              "0             Calgary  Speed Skating   \n",
              "1             Calgary  Speed Skating   \n",
              "2         Albertville  Speed Skating   \n",
              "3         Albertville  Speed Skating   \n",
              "4         Lillehammer  Speed Skating   \n",
              "...               ...            ...   \n",
              "40611          Athina         Rowing   \n",
              "40612           Sochi    Ski Jumping   \n",
              "40613           Sochi    Ski Jumping   \n",
              "40614          Nagano      Bobsleigh   \n",
              "40615  Salt Lake City      Bobsleigh   \n",
              "\n",
              "                                          Event Medal  \n",
              "0              Speed Skating Women's 500 metres   NaN  \n",
              "1            Speed Skating Women's 1,000 metres   NaN  \n",
              "2              Speed Skating Women's 500 metres   NaN  \n",
              "3            Speed Skating Women's 1,000 metres   NaN  \n",
              "4              Speed Skating Women's 500 metres   NaN  \n",
              "...                                         ...   ...  \n",
              "40611    Rowing Men's Lightweight Coxless Fours   NaN  \n",
              "40612  Ski Jumping Men's Large Hill, Individual   NaN  \n",
              "40613        Ski Jumping Men's Large Hill, Team   NaN  \n",
              "40614                      Bobsleigh Men's Four   NaN  \n",
              "40615                      Bobsleigh Men's Four   NaN  \n",
              "\n",
              "[40616 rows x 12 columns]"
            ],
            "text/html": [
              "\n",
              "  <div id=\"df-3c45bc02-b8d4-47bd-aad6-f454838f0a07\">\n",
              "    <div class=\"colab-df-container\">\n",
              "      <div>\n",
              "<style scoped>\n",
              "    .dataframe tbody tr th:only-of-type {\n",
              "        vertical-align: middle;\n",
              "    }\n",
              "\n",
              "    .dataframe tbody tr th {\n",
              "        vertical-align: top;\n",
              "    }\n",
              "\n",
              "    .dataframe thead th {\n",
              "        text-align: right;\n",
              "    }\n",
              "</style>\n",
              "<table border=\"1\" class=\"dataframe\">\n",
              "  <thead>\n",
              "    <tr style=\"text-align: right;\">\n",
              "      <th></th>\n",
              "      <th>ID</th>\n",
              "      <th>Age</th>\n",
              "      <th>Height</th>\n",
              "      <th>Team</th>\n",
              "      <th>NOC</th>\n",
              "      <th>Games</th>\n",
              "      <th>Year</th>\n",
              "      <th>Season</th>\n",
              "      <th>City</th>\n",
              "      <th>Sport</th>\n",
              "      <th>Event</th>\n",
              "      <th>Medal</th>\n",
              "    </tr>\n",
              "  </thead>\n",
              "  <tbody>\n",
              "    <tr>\n",
              "      <th>0</th>\n",
              "      <td>5</td>\n",
              "      <td>21.0</td>\n",
              "      <td>185.0</td>\n",
              "      <td>Netherlands</td>\n",
              "      <td>NED</td>\n",
              "      <td>1988 Winter</td>\n",
              "      <td>1988</td>\n",
              "      <td>Winter</td>\n",
              "      <td>Calgary</td>\n",
              "      <td>Speed Skating</td>\n",
              "      <td>Speed Skating Women's 500 metres</td>\n",
              "      <td>NaN</td>\n",
              "    </tr>\n",
              "    <tr>\n",
              "      <th>1</th>\n",
              "      <td>5</td>\n",
              "      <td>21.0</td>\n",
              "      <td>185.0</td>\n",
              "      <td>Netherlands</td>\n",
              "      <td>NED</td>\n",
              "      <td>1988 Winter</td>\n",
              "      <td>1988</td>\n",
              "      <td>Winter</td>\n",
              "      <td>Calgary</td>\n",
              "      <td>Speed Skating</td>\n",
              "      <td>Speed Skating Women's 1,000 metres</td>\n",
              "      <td>NaN</td>\n",
              "    </tr>\n",
              "    <tr>\n",
              "      <th>2</th>\n",
              "      <td>5</td>\n",
              "      <td>25.0</td>\n",
              "      <td>185.0</td>\n",
              "      <td>Netherlands</td>\n",
              "      <td>NED</td>\n",
              "      <td>1992 Winter</td>\n",
              "      <td>1992</td>\n",
              "      <td>Winter</td>\n",
              "      <td>Albertville</td>\n",
              "      <td>Speed Skating</td>\n",
              "      <td>Speed Skating Women's 500 metres</td>\n",
              "      <td>NaN</td>\n",
              "    </tr>\n",
              "    <tr>\n",
              "      <th>3</th>\n",
              "      <td>5</td>\n",
              "      <td>25.0</td>\n",
              "      <td>185.0</td>\n",
              "      <td>Netherlands</td>\n",
              "      <td>NED</td>\n",
              "      <td>1992 Winter</td>\n",
              "      <td>1992</td>\n",
              "      <td>Winter</td>\n",
              "      <td>Albertville</td>\n",
              "      <td>Speed Skating</td>\n",
              "      <td>Speed Skating Women's 1,000 metres</td>\n",
              "      <td>NaN</td>\n",
              "    </tr>\n",
              "    <tr>\n",
              "      <th>4</th>\n",
              "      <td>5</td>\n",
              "      <td>27.0</td>\n",
              "      <td>185.0</td>\n",
              "      <td>Netherlands</td>\n",
              "      <td>NED</td>\n",
              "      <td>1994 Winter</td>\n",
              "      <td>1994</td>\n",
              "      <td>Winter</td>\n",
              "      <td>Lillehammer</td>\n",
              "      <td>Speed Skating</td>\n",
              "      <td>Speed Skating Women's 500 metres</td>\n",
              "      <td>NaN</td>\n",
              "    </tr>\n",
              "    <tr>\n",
              "      <th>...</th>\n",
              "      <td>...</td>\n",
              "      <td>...</td>\n",
              "      <td>...</td>\n",
              "      <td>...</td>\n",
              "      <td>...</td>\n",
              "      <td>...</td>\n",
              "      <td>...</td>\n",
              "      <td>...</td>\n",
              "      <td>...</td>\n",
              "      <td>...</td>\n",
              "      <td>...</td>\n",
              "      <td>...</td>\n",
              "    </tr>\n",
              "    <tr>\n",
              "      <th>40611</th>\n",
              "      <td>135567</td>\n",
              "      <td>28.0</td>\n",
              "      <td>183.0</td>\n",
              "      <td>Russia</td>\n",
              "      <td>RUS</td>\n",
              "      <td>2004 Summer</td>\n",
              "      <td>2004</td>\n",
              "      <td>Summer</td>\n",
              "      <td>Athina</td>\n",
              "      <td>Rowing</td>\n",
              "      <td>Rowing Men's Lightweight Coxless Fours</td>\n",
              "      <td>NaN</td>\n",
              "    </tr>\n",
              "    <tr>\n",
              "      <th>40612</th>\n",
              "      <td>135570</td>\n",
              "      <td>27.0</td>\n",
              "      <td>176.0</td>\n",
              "      <td>Poland</td>\n",
              "      <td>POL</td>\n",
              "      <td>2014 Winter</td>\n",
              "      <td>2014</td>\n",
              "      <td>Winter</td>\n",
              "      <td>Sochi</td>\n",
              "      <td>Ski Jumping</td>\n",
              "      <td>Ski Jumping Men's Large Hill, Individual</td>\n",
              "      <td>NaN</td>\n",
              "    </tr>\n",
              "    <tr>\n",
              "      <th>40613</th>\n",
              "      <td>135570</td>\n",
              "      <td>27.0</td>\n",
              "      <td>176.0</td>\n",
              "      <td>Poland</td>\n",
              "      <td>POL</td>\n",
              "      <td>2014 Winter</td>\n",
              "      <td>2014</td>\n",
              "      <td>Winter</td>\n",
              "      <td>Sochi</td>\n",
              "      <td>Ski Jumping</td>\n",
              "      <td>Ski Jumping Men's Large Hill, Team</td>\n",
              "      <td>NaN</td>\n",
              "    </tr>\n",
              "    <tr>\n",
              "      <th>40614</th>\n",
              "      <td>135571</td>\n",
              "      <td>30.0</td>\n",
              "      <td>185.0</td>\n",
              "      <td>Poland</td>\n",
              "      <td>POL</td>\n",
              "      <td>1998 Winter</td>\n",
              "      <td>1998</td>\n",
              "      <td>Winter</td>\n",
              "      <td>Nagano</td>\n",
              "      <td>Bobsleigh</td>\n",
              "      <td>Bobsleigh Men's Four</td>\n",
              "      <td>NaN</td>\n",
              "    </tr>\n",
              "    <tr>\n",
              "      <th>40615</th>\n",
              "      <td>135571</td>\n",
              "      <td>34.0</td>\n",
              "      <td>185.0</td>\n",
              "      <td>Poland</td>\n",
              "      <td>POL</td>\n",
              "      <td>2002 Winter</td>\n",
              "      <td>2002</td>\n",
              "      <td>Winter</td>\n",
              "      <td>Salt Lake City</td>\n",
              "      <td>Bobsleigh</td>\n",
              "      <td>Bobsleigh Men's Four</td>\n",
              "      <td>NaN</td>\n",
              "    </tr>\n",
              "  </tbody>\n",
              "</table>\n",
              "<p>40616 rows × 12 columns</p>\n",
              "</div>\n",
              "      <button class=\"colab-df-convert\" onclick=\"convertToInteractive('df-3c45bc02-b8d4-47bd-aad6-f454838f0a07')\"\n",
              "              title=\"Convert this dataframe to an interactive table.\"\n",
              "              style=\"display:none;\">\n",
              "        \n",
              "  <svg xmlns=\"http://www.w3.org/2000/svg\" height=\"24px\"viewBox=\"0 0 24 24\"\n",
              "       width=\"24px\">\n",
              "    <path d=\"M0 0h24v24H0V0z\" fill=\"none\"/>\n",
              "    <path d=\"M18.56 5.44l.94 2.06.94-2.06 2.06-.94-2.06-.94-.94-2.06-.94 2.06-2.06.94zm-11 1L8.5 8.5l.94-2.06 2.06-.94-2.06-.94L8.5 2.5l-.94 2.06-2.06.94zm10 10l.94 2.06.94-2.06 2.06-.94-2.06-.94-.94-2.06-.94 2.06-2.06.94z\"/><path d=\"M17.41 7.96l-1.37-1.37c-.4-.4-.92-.59-1.43-.59-.52 0-1.04.2-1.43.59L10.3 9.45l-7.72 7.72c-.78.78-.78 2.05 0 2.83L4 21.41c.39.39.9.59 1.41.59.51 0 1.02-.2 1.41-.59l7.78-7.78 2.81-2.81c.8-.78.8-2.07 0-2.86zM5.41 20L4 18.59l7.72-7.72 1.47 1.35L5.41 20z\"/>\n",
              "  </svg>\n",
              "      </button>\n",
              "      \n",
              "  <style>\n",
              "    .colab-df-container {\n",
              "      display:flex;\n",
              "      flex-wrap:wrap;\n",
              "      gap: 12px;\n",
              "    }\n",
              "\n",
              "    .colab-df-convert {\n",
              "      background-color: #E8F0FE;\n",
              "      border: none;\n",
              "      border-radius: 50%;\n",
              "      cursor: pointer;\n",
              "      display: none;\n",
              "      fill: #1967D2;\n",
              "      height: 32px;\n",
              "      padding: 0 0 0 0;\n",
              "      width: 32px;\n",
              "    }\n",
              "\n",
              "    .colab-df-convert:hover {\n",
              "      background-color: #E2EBFA;\n",
              "      box-shadow: 0px 1px 2px rgba(60, 64, 67, 0.3), 0px 1px 3px 1px rgba(60, 64, 67, 0.15);\n",
              "      fill: #174EA6;\n",
              "    }\n",
              "\n",
              "    [theme=dark] .colab-df-convert {\n",
              "      background-color: #3B4455;\n",
              "      fill: #D2E3FC;\n",
              "    }\n",
              "\n",
              "    [theme=dark] .colab-df-convert:hover {\n",
              "      background-color: #434B5C;\n",
              "      box-shadow: 0px 1px 3px 1px rgba(0, 0, 0, 0.15);\n",
              "      filter: drop-shadow(0px 1px 2px rgba(0, 0, 0, 0.3));\n",
              "      fill: #FFFFFF;\n",
              "    }\n",
              "  </style>\n",
              "\n",
              "      <script>\n",
              "        const buttonEl =\n",
              "          document.querySelector('#df-3c45bc02-b8d4-47bd-aad6-f454838f0a07 button.colab-df-convert');\n",
              "        buttonEl.style.display =\n",
              "          google.colab.kernel.accessAllowed ? 'block' : 'none';\n",
              "\n",
              "        async function convertToInteractive(key) {\n",
              "          const element = document.querySelector('#df-3c45bc02-b8d4-47bd-aad6-f454838f0a07');\n",
              "          const dataTable =\n",
              "            await google.colab.kernel.invokeFunction('convertToInteractive',\n",
              "                                                     [key], {});\n",
              "          if (!dataTable) return;\n",
              "\n",
              "          const docLinkHtml = 'Like what you see? Visit the ' +\n",
              "            '<a target=\"_blank\" href=https://colab.research.google.com/notebooks/data_table.ipynb>data table notebook</a>'\n",
              "            + ' to learn more about interactive tables.';\n",
              "          element.innerHTML = '';\n",
              "          dataTable['output_type'] = 'display_data';\n",
              "          await google.colab.output.renderOutput(dataTable, element);\n",
              "          const docLink = document.createElement('div');\n",
              "          docLink.innerHTML = docLinkHtml;\n",
              "          element.appendChild(docLink);\n",
              "        }\n",
              "      </script>\n",
              "    </div>\n",
              "  </div>\n",
              "  "
            ]
          },
          "metadata": {},
          "execution_count": 247
        }
      ]
    },
    {
      "cell_type": "code",
      "source": [
        "# a. ¿Cuántas filas hay?\n",
        "#40616\n",
        "df.info()"
      ],
      "metadata": {
        "colab": {
          "base_uri": "https://localhost:8080/"
        },
        "id": "lV1uNTaj3DvC",
        "outputId": "beb96375-35da-43ee-81ab-60639d74b0c6"
      },
      "execution_count": 248,
      "outputs": [
        {
          "output_type": "stream",
          "name": "stdout",
          "text": [
            "<class 'pandas.core.frame.DataFrame'>\n",
            "RangeIndex: 40616 entries, 0 to 40615\n",
            "Data columns (total 12 columns):\n",
            " #   Column  Non-Null Count  Dtype  \n",
            "---  ------  --------------  -----  \n",
            " 0   ID      40616 non-null  int64  \n",
            " 1   Age     39143 non-null  float64\n",
            " 2   Height  31615 non-null  float64\n",
            " 3   Team    40616 non-null  object \n",
            " 4   NOC     40616 non-null  object \n",
            " 5   Games   40616 non-null  object \n",
            " 6   Year    40616 non-null  int64  \n",
            " 7   Season  40616 non-null  object \n",
            " 8   City    40616 non-null  object \n",
            " 9   Sport   40616 non-null  object \n",
            " 10  Event   40616 non-null  object \n",
            " 11  Medal   5917 non-null   object \n",
            "dtypes: float64(2), int64(2), object(8)\n",
            "memory usage: 3.7+ MB\n"
          ]
        }
      ]
    },
    {
      "cell_type": "code",
      "source": [
        "# b. ¿Cuántas columnas hay?\n",
        "len(df.columns)"
      ],
      "metadata": {
        "colab": {
          "base_uri": "https://localhost:8080/"
        },
        "id": "Ys8ZsTYu3Vcf",
        "outputId": "bb81938d-50dd-4095-c9b6-1587081d4406"
      },
      "execution_count": 249,
      "outputs": [
        {
          "output_type": "execute_result",
          "data": {
            "text/plain": [
              "12"
            ]
          },
          "metadata": {},
          "execution_count": 249
        }
      ]
    },
    {
      "cell_type": "code",
      "source": [
        "# c. ¿A qué columnas le faltan datos? (¿Por qué creen que hay muchos valores nulos en la columna Medals (medallas)?\n",
        "# Age, Height, Medal\n",
        "df['Age'].isna().value_counts()"
      ],
      "metadata": {
        "colab": {
          "base_uri": "https://localhost:8080/"
        },
        "id": "eIgldwsZ4HE5",
        "outputId": "32bebadf-73b4-4213-a0ad-09b072dfa601"
      },
      "execution_count": 250,
      "outputs": [
        {
          "output_type": "execute_result",
          "data": {
            "text/plain": [
              "False    39143\n",
              "True      1473\n",
              "Name: Age, dtype: int64"
            ]
          },
          "metadata": {},
          "execution_count": 250
        }
      ]
    },
    {
      "cell_type": "code",
      "source": [
        "def meadAgebyCountry(df):\n",
        "     nonan = df.Age.isna() == False\n",
        "     ned = df.Age.isna()\n",
        "     cty = df.NOC.unique()\n",
        "     \n",
        "     for i in range(0,len(cty)):\n",
        "      searcher = df.NOC == cty[i]\n",
        "      res = df.loc[nonan & searcher,'Age'].mean()\n",
        "      df.loc[searcher & ned, 'Age'] = res\n",
        "         \n",
        "     return df\n",
        "\n",
        "\n",
        "response = meadAgebyCountry(df)\n",
        "response.info()\n",
        "\n",
        "\n"
      ],
      "metadata": {
        "id": "AIHcPwb_4YnC",
        "colab": {
          "base_uri": "https://localhost:8080/"
        },
        "outputId": "b7392b58-3480-4ac5-e3d8-b230cdc4f339"
      },
      "execution_count": 251,
      "outputs": [
        {
          "output_type": "stream",
          "name": "stdout",
          "text": [
            "<class 'pandas.core.frame.DataFrame'>\n",
            "RangeIndex: 40616 entries, 0 to 40615\n",
            "Data columns (total 12 columns):\n",
            " #   Column  Non-Null Count  Dtype  \n",
            "---  ------  --------------  -----  \n",
            " 0   ID      40616 non-null  int64  \n",
            " 1   Age     40615 non-null  float64\n",
            " 2   Height  31615 non-null  float64\n",
            " 3   Team    40616 non-null  object \n",
            " 4   NOC     40616 non-null  object \n",
            " 5   Games   40616 non-null  object \n",
            " 6   Year    40616 non-null  int64  \n",
            " 7   Season  40616 non-null  object \n",
            " 8   City    40616 non-null  object \n",
            " 9   Sport   40616 non-null  object \n",
            " 10  Event   40616 non-null  object \n",
            " 11  Medal   5917 non-null   object \n",
            "dtypes: float64(2), int64(2), object(8)\n",
            "memory usage: 3.7+ MB\n"
          ]
        }
      ]
    },
    {
      "cell_type": "code",
      "source": [
        "naage =  df.Age.isna()\n",
        "df = df.drop(df.index[9164], axis=0)\n",
        "df['Age'] = df['Age'].astype('int64')\n",
        "\n",
        "df.info()"
      ],
      "metadata": {
        "colab": {
          "base_uri": "https://localhost:8080/"
        },
        "id": "LHPVOT6saWqc",
        "outputId": "c944b6a8-f197-4265-bc7d-a873f1ff58ef"
      },
      "execution_count": 252,
      "outputs": [
        {
          "output_type": "stream",
          "name": "stdout",
          "text": [
            "<class 'pandas.core.frame.DataFrame'>\n",
            "Int64Index: 40615 entries, 0 to 40615\n",
            "Data columns (total 12 columns):\n",
            " #   Column  Non-Null Count  Dtype  \n",
            "---  ------  --------------  -----  \n",
            " 0   ID      40615 non-null  int64  \n",
            " 1   Age     40615 non-null  int64  \n",
            " 2   Height  31615 non-null  float64\n",
            " 3   Team    40615 non-null  object \n",
            " 4   NOC     40615 non-null  object \n",
            " 5   Games   40615 non-null  object \n",
            " 6   Year    40615 non-null  int64  \n",
            " 7   Season  40615 non-null  object \n",
            " 8   City    40615 non-null  object \n",
            " 9   Sport   40615 non-null  object \n",
            " 10  Event   40615 non-null  object \n",
            " 11  Medal   5917 non-null   object \n",
            "dtypes: float64(1), int64(3), object(8)\n",
            "memory usage: 4.0+ MB\n"
          ]
        }
      ]
    },
    {
      "cell_type": "markdown",
      "source": [
        "SE PROCEDIO A CAMBIAR EL TIPO DE DATO DE LA COLMNA AGE PARA ELIMINAR LOS DECIMALES."
      ],
      "metadata": {
        "id": "IC1MH3k1e5GW"
      }
    },
    {
      "cell_type": "code",
      "source": [
        "def meadheightbyCountry(df):\n",
        "     h_nonan = df.Height.isna() == False\n",
        "     h_ned = df.Height.isna()\n",
        "     h_cty = df.NOC.unique()\n",
        "     \n",
        "     for i in range(0,len(h_cty)):\n",
        "      searcher = df.NOC == h_cty[i]\n",
        "      res = df.loc[h_nonan & searcher,'Height'].mean()\n",
        "      df.loc[searcher & h_ned, 'Height'] = res\n",
        "      df['Height'] = df['Height'].round(2)\n",
        "         \n",
        "     return df\n",
        "\n",
        "\n",
        "response = meadheightbyCountry(df)\n",
        "response.info()\n"
      ],
      "metadata": {
        "colab": {
          "base_uri": "https://localhost:8080/"
        },
        "id": "05i_YT1FukW1",
        "outputId": "78415584-f4df-4637-f817-4852fb634e38"
      },
      "execution_count": 253,
      "outputs": [
        {
          "output_type": "stream",
          "name": "stdout",
          "text": [
            "<class 'pandas.core.frame.DataFrame'>\n",
            "Int64Index: 40615 entries, 0 to 40615\n",
            "Data columns (total 12 columns):\n",
            " #   Column  Non-Null Count  Dtype  \n",
            "---  ------  --------------  -----  \n",
            " 0   ID      40615 non-null  int64  \n",
            " 1   Age     40615 non-null  int64  \n",
            " 2   Height  40547 non-null  float64\n",
            " 3   Team    40615 non-null  object \n",
            " 4   NOC     40615 non-null  object \n",
            " 5   Games   40615 non-null  object \n",
            " 6   Year    40615 non-null  int64  \n",
            " 7   Season  40615 non-null  object \n",
            " 8   City    40615 non-null  object \n",
            " 9   Sport   40615 non-null  object \n",
            " 10  Event   40615 non-null  object \n",
            " 11  Medal   5917 non-null   object \n",
            "dtypes: float64(1), int64(3), object(8)\n",
            "memory usage: 4.0+ MB\n"
          ]
        }
      ]
    },
    {
      "cell_type": "code",
      "source": [
        "silver = df['Year'] == 1994\n",
        "sport = df.Sport == 'Alpine Skiing'\n",
        "df.loc[silver & sport,:].count()\n"
      ],
      "metadata": {
        "colab": {
          "base_uri": "https://localhost:8080/"
        },
        "id": "ckItYUa6TvVz",
        "outputId": "b089818c-c5ab-4ec2-d005-16c3f39c1270"
      },
      "execution_count": 254,
      "outputs": [
        {
          "output_type": "execute_result",
          "data": {
            "text/plain": [
              "ID        96\n",
              "Age       96\n",
              "Height    96\n",
              "Team      96\n",
              "NOC       96\n",
              "Games     96\n",
              "Year      96\n",
              "Season    96\n",
              "City      96\n",
              "Sport     96\n",
              "Event     96\n",
              "Medal      3\n",
              "dtype: int64"
            ]
          },
          "metadata": {},
          "execution_count": 254
        }
      ]
    },
    {
      "cell_type": "markdown",
      "source": [
        "Luego de hacer un exhautivo analisis, note que los valores NaN de la colmna MEDAL son debido a que de las 96 competencias celebradas se le debia colocar 32 bronze, 32 silver y 32 gold para completar debidamente estos campos en donde cada pais gano en la posicion X que no fue asignada en la columna MEDAL."
      ],
      "metadata": {
        "id": "rg1X4vozrzFn"
      }
    },
    {
      "cell_type": "code",
      "source": [
        "# df.Height.isna()\n",
        "def fillheight(ht):\n",
        "  sr_event = df.Event == ht\n",
        "  h1_nanis = df['Height'].isna()\n",
        "  h1_val = df['Height'].isna() == False\n",
        "\n",
        "  # df.loc[h1_nanis, 'Height']\n",
        "\n",
        "  HeightNew = df.loc[h1_val & sr_event, 'Height'].mean()\n",
        "  \n",
        "  return HeightNew\n",
        "\n",
        "\n",
        "h_nanis = df['Height'].isna()\n",
        "repl = df.loc[h_nanis, :]\n",
        "df.loc[h_nanis, 'Height'] =  repl.apply(lambda x: fillheight(x['Event']), axis=1)\n",
        "df.info()\n",
        "# df.isna()"
      ],
      "metadata": {
        "colab": {
          "base_uri": "https://localhost:8080/"
        },
        "id": "SeXjpyX8th5Z",
        "outputId": "69503d70-2e1a-4259-e523-998f1775b7ab"
      },
      "execution_count": 255,
      "outputs": [
        {
          "output_type": "stream",
          "name": "stdout",
          "text": [
            "<class 'pandas.core.frame.DataFrame'>\n",
            "Int64Index: 40615 entries, 0 to 40615\n",
            "Data columns (total 12 columns):\n",
            " #   Column  Non-Null Count  Dtype  \n",
            "---  ------  --------------  -----  \n",
            " 0   ID      40615 non-null  int64  \n",
            " 1   Age     40615 non-null  int64  \n",
            " 2   Height  40615 non-null  float64\n",
            " 3   Team    40615 non-null  object \n",
            " 4   NOC     40615 non-null  object \n",
            " 5   Games   40615 non-null  object \n",
            " 6   Year    40615 non-null  int64  \n",
            " 7   Season  40615 non-null  object \n",
            " 8   City    40615 non-null  object \n",
            " 9   Sport   40615 non-null  object \n",
            " 10  Event   40615 non-null  object \n",
            " 11  Medal   5917 non-null   object \n",
            "dtypes: float64(1), int64(3), object(8)\n",
            "memory usage: 4.0+ MB\n"
          ]
        }
      ]
    },
    {
      "cell_type": "markdown",
      "source": [
        "El la funcion anterior terminamos de reemplazar los valoes NAN de la columna Height, para esto tomamos la columna Event para seleccionar la columna Height con valores, encontrar la media y reemplazar el valor NAN de la columna Height por la media de la altura en funcion del evento que el atleta pertenece."
      ],
      "metadata": {
        "id": "h05reU8_3Yl8"
      }
    },
    {
      "cell_type": "code",
      "source": [
        "#  d. ¿Cuántas entradas corresponden a la ciudad de Londres?\n",
        "londres = df.City == 'Londres'\n",
        "df.loc[londres,:].count()\n"
      ],
      "metadata": {
        "id": "YFVP0iwzRZMP",
        "colab": {
          "base_uri": "https://localhost:8080/"
        },
        "outputId": "41923421-e508-4954-8300-8bd8a7b9cbc5"
      },
      "execution_count": 256,
      "outputs": [
        {
          "output_type": "execute_result",
          "data": {
            "text/plain": [
              "ID        0\n",
              "Age       0\n",
              "Height    0\n",
              "Team      0\n",
              "NOC       0\n",
              "Games     0\n",
              "Year      0\n",
              "Season    0\n",
              "City      0\n",
              "Sport     0\n",
              "Event     0\n",
              "Medal     0\n",
              "dtype: int64"
            ]
          },
          "metadata": {},
          "execution_count": 256
        }
      ]
    },
    {
      "cell_type": "markdown",
      "source": [
        "0 ENTRADAS CORRESPONDEN A LONDRES.\n",
        "\n",
        "\n"
      ],
      "metadata": {
        "id": "PLO9uCPq5G2Y"
      }
    },
    {
      "cell_type": "code",
      "source": [
        "#    a. ¿Cuántos atletas que participaron en el deporte \"Tug-Of-War\" (tira y afloja) pertenecían en el equipo “Sweden” (sueco) en el conjunto de datos de muestra?\n",
        "atl_cat =  df.Event == \"Tug-Of-War\"\n",
        "origin =  df.Team == \"Sweden\"\n",
        "df.loc[atl_cat & origin, :].value_counts()"
      ],
      "metadata": {
        "colab": {
          "base_uri": "https://localhost:8080/"
        },
        "id": "ecnV7ZUcS1m-",
        "outputId": "0f362e69-ba9c-4e28-dbc3-70c2507459fe"
      },
      "execution_count": 257,
      "outputs": [
        {
          "output_type": "execute_result",
          "data": {
            "text/plain": [
              "Series([], dtype: int64)"
            ]
          },
          "metadata": {},
          "execution_count": 257
        }
      ]
    },
    {
      "cell_type": "markdown",
      "source": [
        "0 atleta de Sweden participo en \"Tug-Of-War\""
      ],
      "metadata": {
        "id": "qBGbSPoo5xZH"
      }
    },
    {
      "cell_type": "code",
      "source": [
        "#   b. ¿Cuántas medallas de oro se le entregaron a los atletas que tenían más de 40 años?\n",
        "metal_gol = df.Medal == \"Gold\"\n",
        "age_40 = df.Age > 40\n",
        "df.loc[metal_gol & age_40,\"Team\"].count()"
      ],
      "metadata": {
        "colab": {
          "base_uri": "https://localhost:8080/"
        },
        "id": "9KuY-tdV5pPD",
        "outputId": "2904c927-dd87-474a-e315-9ac156ab4988"
      },
      "execution_count": 258,
      "outputs": [
        {
          "output_type": "execute_result",
          "data": {
            "text/plain": [
              "66"
            ]
          },
          "metadata": {},
          "execution_count": 258
        }
      ]
    },
    {
      "cell_type": "markdown",
      "source": [
        "La cantidad de medallas entregadas a los atletas con mas de 40 años es 66."
      ],
      "metadata": {
        "id": "wY6kj2Hd67qj"
      }
    },
    {
      "cell_type": "code",
      "source": [
        "  # a. Todas las filas incluidas.\n",
        "avg_h = np.array(df.loc[:,['Height']])\n",
        "np.mean(avg_h).round()\n"
      ],
      "metadata": {
        "colab": {
          "base_uri": "https://localhost:8080/"
        },
        "id": "FD0eeVRT6LHv",
        "outputId": "a6dcf5f8-aa0c-4c94-a97f-9061ad94375c"
      },
      "execution_count": 259,
      "outputs": [
        {
          "output_type": "execute_result",
          "data": {
            "text/plain": [
              "176.0"
            ]
          },
          "metadata": {},
          "execution_count": 259
        }
      ]
    },
    {
      "cell_type": "code",
      "source": [
        "# b. Todas las filas incluidas, pero agrupadas por Event (evento).\n",
        "avg_h1 = np.array(df.loc[:,['Height']])\n",
        "gby = df.groupby('Height')['Height'].mean().round()\n",
        "gby\n"
      ],
      "metadata": {
        "colab": {
          "base_uri": "https://localhost:8080/"
        },
        "id": "etgaDewZ7da_",
        "outputId": "1990b863-7cc4-4434-8df8-71fdf36d79ea"
      },
      "execution_count": 260,
      "outputs": [
        {
          "output_type": "execute_result",
          "data": {
            "text/plain": [
              "Height\n",
              "135.0    135.0\n",
              "136.0    136.0\n",
              "139.0    139.0\n",
              "140.0    140.0\n",
              "142.0    142.0\n",
              "         ...  \n",
              "214.0    214.0\n",
              "215.0    215.0\n",
              "219.0    219.0\n",
              "220.0    220.0\n",
              "221.0    221.0\n",
              "Name: Height, Length: 256, dtype: float64"
            ]
          },
          "metadata": {},
          "execution_count": 260
        }
      ]
    },
    {
      "cell_type": "code",
      "source": [
        "# c. Bono: Este conjunto de datos contiene muchos atletas más de una vez (si compitieron en varios eventos y/o varios años). Pueden confirmarlo encontrarlo .value_counts en la columna ID.  Para la tarea del bono queremos que obtengan la altura promedio de todos los atletas, pero sin incluir algún atleta más de una vez.  Pista: Aprendimos cómo eliminar duplicados si CADA columna fuera idéntica, sin embargo, ahora tenemos que eliminar una fila cada vez que un ID se repite.  Para hacer eso, pueden usar un subconjunto de sus datos como un argumento en la función drop_duplicates.  También le pueden decir a Python cuales duplicados mantener usando el argumento keep.\n",
        "df = df.drop_duplicates('ID', keep='first')\n",
        "df.loc[:, 'Height'].value_counts()\n"
      ],
      "metadata": {
        "colab": {
          "base_uri": "https://localhost:8080/"
        },
        "id": "XqlOzzBt9MYz",
        "outputId": "64c7cf0e-1c74-425c-ca1b-59ea62cc0a81"
      },
      "execution_count": 261,
      "outputs": [
        {
          "output_type": "execute_result",
          "data": {
            "text/plain": [
              "180.000000    986\n",
              "170.000000    827\n",
              "178.000000    780\n",
              "175.000000    764\n",
              "183.000000    614\n",
              "             ... \n",
              "172.499500      1\n",
              "177.210000      1\n",
              "177.205312      1\n",
              "173.930957      1\n",
              "178.220000      1\n",
              "Name: Height, Length: 238, dtype: int64"
            ]
          },
          "metadata": {},
          "execution_count": 261
        }
      ]
    },
    {
      "cell_type": "code",
      "source": [
        "medals = df.Medal.isna()\n",
        "df.loc[medals, 'Medal'] = 'Missing'\n",
        "df"
      ],
      "metadata": {
        "colab": {
          "base_uri": "https://localhost:8080/",
          "height": 765
        },
        "id": "c848DQir_t8Y",
        "outputId": "e83b8958-3242-454a-e5be-18b532d80ca8"
      },
      "execution_count": 262,
      "outputs": [
        {
          "output_type": "stream",
          "name": "stderr",
          "text": [
            "/usr/local/lib/python3.7/dist-packages/pandas/core/indexing.py:1817: SettingWithCopyWarning: \n",
            "A value is trying to be set on a copy of a slice from a DataFrame.\n",
            "Try using .loc[row_indexer,col_indexer] = value instead\n",
            "\n",
            "See the caveats in the documentation: https://pandas.pydata.org/pandas-docs/stable/user_guide/indexing.html#returning-a-view-versus-a-copy\n",
            "  self._setitem_single_column(loc, value, pi)\n"
          ]
        },
        {
          "output_type": "execute_result",
          "data": {
            "text/plain": [
              "           ID  Age  Height           Team  NOC        Games  Year  Season  \\\n",
              "0           5   21   185.0    Netherlands  NED  1988 Winter  1988  Winter   \n",
              "6           6   31   188.0  United States  USA  1992 Winter  1992  Winter   \n",
              "14         12   31   172.0        Finland  FIN  2000 Summer  2000  Summer   \n",
              "15         30   26   189.0    Netherlands  NED  1996 Summer  1996  Summer   \n",
              "17         36   21   194.0    Netherlands  NED  1996 Summer  1996  Summer   \n",
              "...       ...  ...     ...            ...  ...          ...   ...     ...   \n",
              "40604  135553   21   168.0   Soviet Union  URS  1952 Summer  1952  Summer   \n",
              "40609  135558   32   200.0         Poland  POL  2012 Summer  2012  Summer   \n",
              "40610  135567   24   183.0         Russia  RUS  2000 Summer  2000  Summer   \n",
              "40612  135570   27   176.0         Poland  POL  2014 Winter  2014  Winter   \n",
              "40614  135571   30   185.0         Poland  POL  1998 Winter  1998  Winter   \n",
              "\n",
              "              City                 Sport  \\\n",
              "0          Calgary         Speed Skating   \n",
              "6      Albertville  Cross Country Skiing   \n",
              "14          Sydney             Badminton   \n",
              "15         Atlanta                Rowing   \n",
              "17         Atlanta              Swimming   \n",
              "...            ...                   ...   \n",
              "40604     Helsinki             Athletics   \n",
              "40609       London            Volleyball   \n",
              "40610       Sydney                Rowing   \n",
              "40612        Sochi           Ski Jumping   \n",
              "40614       Nagano             Bobsleigh   \n",
              "\n",
              "                                          Event    Medal  \n",
              "0              Speed Skating Women's 500 metres  Missing  \n",
              "6      Cross Country Skiing Men's 10 kilometres  Missing  \n",
              "14                      Badminton Men's Singles  Missing  \n",
              "15       Rowing Men's Lightweight Double Sculls   Silver  \n",
              "17          Swimming Men's 100 metres Butterfly  Missing  \n",
              "...                                         ...      ...  \n",
              "40604                Athletics Women's Shot Put     Gold  \n",
              "40609               Volleyball Men's Volleyball  Missing  \n",
              "40610    Rowing Men's Lightweight Coxless Fours  Missing  \n",
              "40612  Ski Jumping Men's Large Hill, Individual  Missing  \n",
              "40614                      Bobsleigh Men's Four  Missing  \n",
              "\n",
              "[20335 rows x 12 columns]"
            ],
            "text/html": [
              "\n",
              "  <div id=\"df-e5fed5c1-cd1e-4f70-8204-f6cb4cc67d39\">\n",
              "    <div class=\"colab-df-container\">\n",
              "      <div>\n",
              "<style scoped>\n",
              "    .dataframe tbody tr th:only-of-type {\n",
              "        vertical-align: middle;\n",
              "    }\n",
              "\n",
              "    .dataframe tbody tr th {\n",
              "        vertical-align: top;\n",
              "    }\n",
              "\n",
              "    .dataframe thead th {\n",
              "        text-align: right;\n",
              "    }\n",
              "</style>\n",
              "<table border=\"1\" class=\"dataframe\">\n",
              "  <thead>\n",
              "    <tr style=\"text-align: right;\">\n",
              "      <th></th>\n",
              "      <th>ID</th>\n",
              "      <th>Age</th>\n",
              "      <th>Height</th>\n",
              "      <th>Team</th>\n",
              "      <th>NOC</th>\n",
              "      <th>Games</th>\n",
              "      <th>Year</th>\n",
              "      <th>Season</th>\n",
              "      <th>City</th>\n",
              "      <th>Sport</th>\n",
              "      <th>Event</th>\n",
              "      <th>Medal</th>\n",
              "    </tr>\n",
              "  </thead>\n",
              "  <tbody>\n",
              "    <tr>\n",
              "      <th>0</th>\n",
              "      <td>5</td>\n",
              "      <td>21</td>\n",
              "      <td>185.0</td>\n",
              "      <td>Netherlands</td>\n",
              "      <td>NED</td>\n",
              "      <td>1988 Winter</td>\n",
              "      <td>1988</td>\n",
              "      <td>Winter</td>\n",
              "      <td>Calgary</td>\n",
              "      <td>Speed Skating</td>\n",
              "      <td>Speed Skating Women's 500 metres</td>\n",
              "      <td>Missing</td>\n",
              "    </tr>\n",
              "    <tr>\n",
              "      <th>6</th>\n",
              "      <td>6</td>\n",
              "      <td>31</td>\n",
              "      <td>188.0</td>\n",
              "      <td>United States</td>\n",
              "      <td>USA</td>\n",
              "      <td>1992 Winter</td>\n",
              "      <td>1992</td>\n",
              "      <td>Winter</td>\n",
              "      <td>Albertville</td>\n",
              "      <td>Cross Country Skiing</td>\n",
              "      <td>Cross Country Skiing Men's 10 kilometres</td>\n",
              "      <td>Missing</td>\n",
              "    </tr>\n",
              "    <tr>\n",
              "      <th>14</th>\n",
              "      <td>12</td>\n",
              "      <td>31</td>\n",
              "      <td>172.0</td>\n",
              "      <td>Finland</td>\n",
              "      <td>FIN</td>\n",
              "      <td>2000 Summer</td>\n",
              "      <td>2000</td>\n",
              "      <td>Summer</td>\n",
              "      <td>Sydney</td>\n",
              "      <td>Badminton</td>\n",
              "      <td>Badminton Men's Singles</td>\n",
              "      <td>Missing</td>\n",
              "    </tr>\n",
              "    <tr>\n",
              "      <th>15</th>\n",
              "      <td>30</td>\n",
              "      <td>26</td>\n",
              "      <td>189.0</td>\n",
              "      <td>Netherlands</td>\n",
              "      <td>NED</td>\n",
              "      <td>1996 Summer</td>\n",
              "      <td>1996</td>\n",
              "      <td>Summer</td>\n",
              "      <td>Atlanta</td>\n",
              "      <td>Rowing</td>\n",
              "      <td>Rowing Men's Lightweight Double Sculls</td>\n",
              "      <td>Silver</td>\n",
              "    </tr>\n",
              "    <tr>\n",
              "      <th>17</th>\n",
              "      <td>36</td>\n",
              "      <td>21</td>\n",
              "      <td>194.0</td>\n",
              "      <td>Netherlands</td>\n",
              "      <td>NED</td>\n",
              "      <td>1996 Summer</td>\n",
              "      <td>1996</td>\n",
              "      <td>Summer</td>\n",
              "      <td>Atlanta</td>\n",
              "      <td>Swimming</td>\n",
              "      <td>Swimming Men's 100 metres Butterfly</td>\n",
              "      <td>Missing</td>\n",
              "    </tr>\n",
              "    <tr>\n",
              "      <th>...</th>\n",
              "      <td>...</td>\n",
              "      <td>...</td>\n",
              "      <td>...</td>\n",
              "      <td>...</td>\n",
              "      <td>...</td>\n",
              "      <td>...</td>\n",
              "      <td>...</td>\n",
              "      <td>...</td>\n",
              "      <td>...</td>\n",
              "      <td>...</td>\n",
              "      <td>...</td>\n",
              "      <td>...</td>\n",
              "    </tr>\n",
              "    <tr>\n",
              "      <th>40604</th>\n",
              "      <td>135553</td>\n",
              "      <td>21</td>\n",
              "      <td>168.0</td>\n",
              "      <td>Soviet Union</td>\n",
              "      <td>URS</td>\n",
              "      <td>1952 Summer</td>\n",
              "      <td>1952</td>\n",
              "      <td>Summer</td>\n",
              "      <td>Helsinki</td>\n",
              "      <td>Athletics</td>\n",
              "      <td>Athletics Women's Shot Put</td>\n",
              "      <td>Gold</td>\n",
              "    </tr>\n",
              "    <tr>\n",
              "      <th>40609</th>\n",
              "      <td>135558</td>\n",
              "      <td>32</td>\n",
              "      <td>200.0</td>\n",
              "      <td>Poland</td>\n",
              "      <td>POL</td>\n",
              "      <td>2012 Summer</td>\n",
              "      <td>2012</td>\n",
              "      <td>Summer</td>\n",
              "      <td>London</td>\n",
              "      <td>Volleyball</td>\n",
              "      <td>Volleyball Men's Volleyball</td>\n",
              "      <td>Missing</td>\n",
              "    </tr>\n",
              "    <tr>\n",
              "      <th>40610</th>\n",
              "      <td>135567</td>\n",
              "      <td>24</td>\n",
              "      <td>183.0</td>\n",
              "      <td>Russia</td>\n",
              "      <td>RUS</td>\n",
              "      <td>2000 Summer</td>\n",
              "      <td>2000</td>\n",
              "      <td>Summer</td>\n",
              "      <td>Sydney</td>\n",
              "      <td>Rowing</td>\n",
              "      <td>Rowing Men's Lightweight Coxless Fours</td>\n",
              "      <td>Missing</td>\n",
              "    </tr>\n",
              "    <tr>\n",
              "      <th>40612</th>\n",
              "      <td>135570</td>\n",
              "      <td>27</td>\n",
              "      <td>176.0</td>\n",
              "      <td>Poland</td>\n",
              "      <td>POL</td>\n",
              "      <td>2014 Winter</td>\n",
              "      <td>2014</td>\n",
              "      <td>Winter</td>\n",
              "      <td>Sochi</td>\n",
              "      <td>Ski Jumping</td>\n",
              "      <td>Ski Jumping Men's Large Hill, Individual</td>\n",
              "      <td>Missing</td>\n",
              "    </tr>\n",
              "    <tr>\n",
              "      <th>40614</th>\n",
              "      <td>135571</td>\n",
              "      <td>30</td>\n",
              "      <td>185.0</td>\n",
              "      <td>Poland</td>\n",
              "      <td>POL</td>\n",
              "      <td>1998 Winter</td>\n",
              "      <td>1998</td>\n",
              "      <td>Winter</td>\n",
              "      <td>Nagano</td>\n",
              "      <td>Bobsleigh</td>\n",
              "      <td>Bobsleigh Men's Four</td>\n",
              "      <td>Missing</td>\n",
              "    </tr>\n",
              "  </tbody>\n",
              "</table>\n",
              "<p>20335 rows × 12 columns</p>\n",
              "</div>\n",
              "      <button class=\"colab-df-convert\" onclick=\"convertToInteractive('df-e5fed5c1-cd1e-4f70-8204-f6cb4cc67d39')\"\n",
              "              title=\"Convert this dataframe to an interactive table.\"\n",
              "              style=\"display:none;\">\n",
              "        \n",
              "  <svg xmlns=\"http://www.w3.org/2000/svg\" height=\"24px\"viewBox=\"0 0 24 24\"\n",
              "       width=\"24px\">\n",
              "    <path d=\"M0 0h24v24H0V0z\" fill=\"none\"/>\n",
              "    <path d=\"M18.56 5.44l.94 2.06.94-2.06 2.06-.94-2.06-.94-.94-2.06-.94 2.06-2.06.94zm-11 1L8.5 8.5l.94-2.06 2.06-.94-2.06-.94L8.5 2.5l-.94 2.06-2.06.94zm10 10l.94 2.06.94-2.06 2.06-.94-2.06-.94-.94-2.06-.94 2.06-2.06.94z\"/><path d=\"M17.41 7.96l-1.37-1.37c-.4-.4-.92-.59-1.43-.59-.52 0-1.04.2-1.43.59L10.3 9.45l-7.72 7.72c-.78.78-.78 2.05 0 2.83L4 21.41c.39.39.9.59 1.41.59.51 0 1.02-.2 1.41-.59l7.78-7.78 2.81-2.81c.8-.78.8-2.07 0-2.86zM5.41 20L4 18.59l7.72-7.72 1.47 1.35L5.41 20z\"/>\n",
              "  </svg>\n",
              "      </button>\n",
              "      \n",
              "  <style>\n",
              "    .colab-df-container {\n",
              "      display:flex;\n",
              "      flex-wrap:wrap;\n",
              "      gap: 12px;\n",
              "    }\n",
              "\n",
              "    .colab-df-convert {\n",
              "      background-color: #E8F0FE;\n",
              "      border: none;\n",
              "      border-radius: 50%;\n",
              "      cursor: pointer;\n",
              "      display: none;\n",
              "      fill: #1967D2;\n",
              "      height: 32px;\n",
              "      padding: 0 0 0 0;\n",
              "      width: 32px;\n",
              "    }\n",
              "\n",
              "    .colab-df-convert:hover {\n",
              "      background-color: #E2EBFA;\n",
              "      box-shadow: 0px 1px 2px rgba(60, 64, 67, 0.3), 0px 1px 3px 1px rgba(60, 64, 67, 0.15);\n",
              "      fill: #174EA6;\n",
              "    }\n",
              "\n",
              "    [theme=dark] .colab-df-convert {\n",
              "      background-color: #3B4455;\n",
              "      fill: #D2E3FC;\n",
              "    }\n",
              "\n",
              "    [theme=dark] .colab-df-convert:hover {\n",
              "      background-color: #434B5C;\n",
              "      box-shadow: 0px 1px 3px 1px rgba(0, 0, 0, 0.15);\n",
              "      filter: drop-shadow(0px 1px 2px rgba(0, 0, 0, 0.3));\n",
              "      fill: #FFFFFF;\n",
              "    }\n",
              "  </style>\n",
              "\n",
              "      <script>\n",
              "        const buttonEl =\n",
              "          document.querySelector('#df-e5fed5c1-cd1e-4f70-8204-f6cb4cc67d39 button.colab-df-convert');\n",
              "        buttonEl.style.display =\n",
              "          google.colab.kernel.accessAllowed ? 'block' : 'none';\n",
              "\n",
              "        async function convertToInteractive(key) {\n",
              "          const element = document.querySelector('#df-e5fed5c1-cd1e-4f70-8204-f6cb4cc67d39');\n",
              "          const dataTable =\n",
              "            await google.colab.kernel.invokeFunction('convertToInteractive',\n",
              "                                                     [key], {});\n",
              "          if (!dataTable) return;\n",
              "\n",
              "          const docLinkHtml = 'Like what you see? Visit the ' +\n",
              "            '<a target=\"_blank\" href=https://colab.research.google.com/notebooks/data_table.ipynb>data table notebook</a>'\n",
              "            + ' to learn more about interactive tables.';\n",
              "          element.innerHTML = '';\n",
              "          dataTable['output_type'] = 'display_data';\n",
              "          await google.colab.output.renderOutput(dataTable, element);\n",
              "          const docLink = document.createElement('div');\n",
              "          docLink.innerHTML = docLinkHtml;\n",
              "          element.appendChild(docLink);\n",
              "        }\n",
              "      </script>\n",
              "    </div>\n",
              "  </div>\n",
              "  "
            ]
          },
          "metadata": {},
          "execution_count": 262
        }
      ]
    },
    {
      "cell_type": "code",
      "source": [],
      "metadata": {
        "id": "70qw8AJBAR4s"
      },
      "execution_count": null,
      "outputs": []
    }
  ]
}